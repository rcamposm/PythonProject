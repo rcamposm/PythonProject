{
  "nbformat": 4,
  "nbformat_minor": 0,
  "metadata": {
    "colab": {
      "name": "Práctica Modulo1.ipynb",
      "provenance": []
    },
    "kernelspec": {
      "name": "python3",
      "display_name": "Python 3"
    }
  },
  "cells": [
    {
      "cell_type": "code",
      "metadata": {
        "id": "MZ-ZyOZyfkpx",
        "colab_type": "code",
        "colab": {}
      },
      "source": [
        "#Ejercicio 1\n",
        "#Finish the line of code that creates the areas list. \n",
        "#In other words, add the strings \"hallway\", \"kitchen\" and \"bedroom\" at the appropriate locations.\n",
        "#Print areas again; is the printout more informative this time?\n",
        "\n",
        "# area variables (in square meters)\n",
        "hall = 11.25\n",
        "kit = 18.0\n",
        "liv = 20.0\n",
        "bed = 10.75\n",
        "bath = 9.50\n",
        "\n",
        "# Adapt list areas\n",
        "areas = [ hall, kit, \"living room\", liv,  bed, \"bathroom\", bath]\n",
        "\n",
        "# Print areas\n",
        "\n",
        "\n",
        "\n"
      ],
      "execution_count": 0,
      "outputs": []
    },
    {
      "cell_type": "code",
      "metadata": {
        "id": "bHU87LUQfxWt",
        "colab_type": "code",
        "colab": {}
      },
      "source": [
        "#Ejercicio2\n",
        "#Finish the list of lists so that it also contains the bedroom and bathroom data. Make sure you enter these in order!\n",
        "#Print out house; does this way of structuring your data make more sense?\n",
        "#Print out the type of house. Are you still dealing with a list?\n",
        "\n",
        "# area variables (in square meters)\n",
        "hall = 11.25\n",
        "kit = 18.0\n",
        "liv = 20.0\n",
        "bed = 10.75\n",
        "bath = 9.50\n",
        "\n",
        "# house information as list of lists\n",
        "house = [[\"hallway\", hall],\n",
        "         [\"kitchen\", kit],\n",
        "         [\"living room\", liv]]\n",
        "\n",
        "# Print out house\n",
        "\n",
        "\n",
        "#Ejercicio 3\n",
        "# Print out the type of house\n",
        "#Using a combination of list subsetting and variable assignment, create a new variable, eat_sleep_area, \n",
        "#that contains the sum of the area of the kitchen and the area of the bedroom.\n",
        "#Print the new variable eat_sleep_area.\n",
        "\n",
        "# Create the areas list\n",
        "areas = [\"hallway\", 11.25, \"kitchen\", 18.0, \"living room\", 20.0, \"bedroom\", 10.75, \"bathroom\", 9.50]\n",
        "\n",
        "# Sum of kitchen and bedroom area: eat_sleep_area\n",
        "\n",
        "\n",
        "# Print the variable eat_sleep_area\n",
        "\n",
        "\n",
        "\n",
        "#Ejerccio 4\n",
        "#Use slicing to create a list, downstairs, that contains the first 6 elements of areas.\n",
        "#Do a similar thing to create a new variable, upstairs, that contains the last 4 elements of areas.\n",
        "#Print both downstairs and upstairs using print()\n",
        "# Create the areas list\n",
        "areas = [\"hallway\", 11.25, \"kitchen\", 18.0, \"living room\", 20.0, \"bedroom\", 10.75, \"bathroom\", 9.50]\n",
        "\n",
        "# Use slicing to create downstairs\n",
        "\n",
        "\n",
        "# Use slicing to create upstairs\n",
        "\n",
        "#Ejercicio 5\n",
        "#Create downstairs again, as the first 6 elements of areas. This time, simplify the slicing by omitting the begin index.\n",
        "#Create upstairs again, as the last 4 elements of areas. This time, simplify the slicing by omitting the end index.\n",
        "\n",
        "# Create the areas list\n",
        "areas = [\"hallway\", 11.25, \"kitchen\", 18.0, \"living room\", 20.0, \"bedroom\", 10.75, \"bathroom\", 9.50]\n",
        "\n",
        "# Alternative slicing to create downstairs\n",
        "\n",
        "\n",
        "# Alternative slicing to create upstairs\n",
        "\n",
        "#Ejercicio 6\n",
        "#Update the area of the bathroom area to be 10.50 square meters instead of 9.50.\n",
        "#Make the areas list more trendy! Change \"living room\" to \"chill zone\".\n",
        "# Create the areas list\n",
        "areas = [\"hallway\", 11.25, \"kitchen\", 18.0, \"living room\", 20.0, \"bedroom\", 10.75, \"bathroom\", 9.50]\n",
        "\n",
        "# Correct the bathroom area\n",
        "\n",
        "\n",
        "# Change \"living room\" to \"chill zone\"\n",
        "\n",
        "#Ejercicio 7\n",
        "#Use the + operator to paste the list [\"poolhouse\", 24.5] to the end of the areas list. Store the resulting list as areas_1.\n",
        "#Further extend areas_1 by adding data on your garage. Add the string \"garage\" and float 15.45. Name the resulting list areas_2.\n",
        "# Create the areas list and make some changes\n",
        "areas = [\"hallway\", 11.25, \"kitchen\", 18.0, \"chill zone\", 20.0,\n",
        "         \"bedroom\", 10.75, \"bathroom\", 10.50]\n",
        "\n",
        "# Add poolhouse data to areas, new list is areas_1\n",
        "\n",
        "\n",
        "# Add garage data to areas_1, new list is areas_2\n",
        "\n",
        "#Ejercicio 8\n",
        "#Change the second command, that creates the variable areas_copy, such that areas_copy is an explicit copy of areas. \n",
        "#After your edit, changes made to areas_copy shouldn't affect areas\n",
        "# Create list areas\n",
        "areas = [11.25, 18.0, 20.0, 10.75, 9.50]\n",
        "\n",
        "# Create areas_copy\n",
        "areas_copy = areas\n",
        "\n",
        "# Change areas_copy\n",
        "areas_copy[0] = 5.0\n",
        "\n",
        "# Print areas\n",
        "print(areas)\n",
        "\n",
        "#Ejercicio 9\n",
        "#Escribir un programa que defina una lista los valores con los nombres de los días de la semana.\n",
        "# Haz que muestre el primero y el penúltimo día de la semana\n",
        "#Respuesta\n",
        "\n",
        "\n",
        "#Ejercicio 10\n",
        "#Proporciona una única expresión que asigne el valor 7.5 a la variable a_number, el valor [42] a la variable a_list y el valor \"hello world\" a la variable a_string.\n",
        "#Es necesario que proporciones una única expresión que realice las tres asignaciones\n",
        "#Respuesta\n",
        "\n",
        "#Ejercicio 11\n",
        "#Qué expresión en Python necesitamos para conseguir el string \"Learning Python\" utilizando sólo las variables str1 ystr2 definidas?\n",
        "#Respuesta\n",
        "\n",
        "\n",
        "#Ejercicio 12\n",
        "#Escribir un programa que defina una lista con los 10 primeros números primos. \n",
        "#Mostrad por pantalla los tres últimos números de la lista.\n",
        "#Respuesta\n",
        "\n",
        "\n"
      ],
      "execution_count": 0,
      "outputs": []
    },
    {
      "cell_type": "markdown",
      "metadata": {
        "id": "o-N51YumG7fC",
        "colab_type": "text"
      },
      "source": [
        "### Ejercicio 13\n",
        "\n",
        "Escribir un programa que asigne tres valores reales aleatorios a tres variables con nombre `a`,` b` y ` c`. Utiliza las variables definidas anteriormente para evaluar la siguiente expresión matemática:\n",
        "\n",
        "$\\frac{-b + \\sqrt {b^2-4ac}}{2a}$\n",
        "\n",
        "\n",
        "**Nota**: En el notebook de teoría hemos visto como sumar, restar, multiplicar y dividir números reales. Para hacer la actividad, tendréis que investigar cómo calcular potencias y raíces cuadradas en Python! Necesitaréis utilizar la librería [`Random`](https://docs.python.org/3/library/random.html?highlight=random#module-random) para la generación de números aleatorios."
      ]
    },
    {
      "cell_type": "code",
      "metadata": {
        "attributes": {
          "classes": [
            "sourceCode"
          ],
          "id": ""
        },
        "id": "X6F7uVdkG7f1",
        "colab_type": "code",
        "colab": {}
      },
      "source": [
        "# Respuesta"
      ],
      "execution_count": 0,
      "outputs": []
    },
    {
      "cell_type": "markdown",
      "metadata": {
        "id": "EJq312z8G7f7",
        "colab_type": "text"
      },
      "source": [
        "### Ejercicio 14\n",
        "\n",
        "Escribir un programa que calcule el diámetro de una esfera de radio 5. "
      ]
    },
    {
      "cell_type": "code",
      "metadata": {
        "attributes": {
          "classes": [
            "sourceCode"
          ],
          "id": ""
        },
        "id": "W8Vvmn-0G7f_",
        "colab_type": "code",
        "colab": {}
      },
      "source": [
        "# Respuesta"
      ],
      "execution_count": 0,
      "outputs": []
    },
    {
      "cell_type": "markdown",
      "metadata": {
        "id": "a6WjOCCfG7gH",
        "colab_type": "text"
      },
      "source": [
        "### Ejercicio 15\n",
        "\n",
        "Escribir un programa en el que se definan los precios de una frutería utilizando un _diccionario_. Deberéis incluir, como mínimo, 5 tipos de fruta diferentes. Por cada fruta, deberá indicarse el precio por kilo.\n",
        "\n",
        "Por ejemplo: Fresas de Huelva con precio 5.9, Fresas del Maresme con precio 10, Manzanas con precio 3.5, etc.\n",
        "\n",
        "Muestra el precio por kilo de cualquiera de las frutas que has incluido en el diccionario, utilizando cualquiera de los métodos de acceso a elementos de un diccionario. "
      ]
    },
    {
      "cell_type": "code",
      "metadata": {
        "id": "WB0IHN1DG7gI",
        "colab_type": "code",
        "colab": {}
      },
      "source": [
        "# Respuesta"
      ],
      "execution_count": 0,
      "outputs": []
    },
    {
      "cell_type": "markdown",
      "metadata": {
        "id": "j_hl1NczG7gM",
        "colab_type": "text"
      },
      "source": [
        "### Ejercicio 16\n",
        "\n",
        "Escribir un código que muestre por pantalla el precio de todas las frutas incluidas en el diccionario creado en el ejercicio anterior (accediendo al diccionario que acabas de definir). \n",
        "\n",
        "El formato de la cadena de caracteres que muestra el precio debe ser el siguiente:\n",
        "\n",
        "```Las frutas tienen un precio de: {precios} euros```\n",
        "\n",
        "Siguiendo con el ejemplo del ejercicio anterior, habría que mostrar por pantalla:\n",
        "\n",
        "```Las frutas tienen un precio de: [5.9, 10, 3.5] euros```\n",
        "\n",
        "**Nota**: recordad que los diccionarios no tienen orden. Por lo tanto, otras ordenaciones de los precios también serían soluciones válidas, por ejemplo:\n",
        "\n",
        "```Las frutas tienen un precio de: [10, 5.9, 3.5] euros```"
      ]
    },
    {
      "cell_type": "code",
      "metadata": {
        "id": "osrY10xbG7gN",
        "colab_type": "code",
        "colab": {}
      },
      "source": [
        "# Respuesta"
      ],
      "execution_count": 0,
      "outputs": []
    },
    {
      "cell_type": "markdown",
      "metadata": {
        "id": "yRa6MhyIG7gS",
        "colab_type": "text"
      },
      "source": [
        "### Ejercicio 17\n",
        "\n",
        "Ordenad la siguiente lista de cadenas de caracteres: **** <span style=\"font-family: Courier New; background-color: #ffcc5c; color: #000000; padding: 3px; \"></span>\n",
        "\n",
        "1. Invirtiendo el orden original\n",
        "2. En orden alfabético inverso\n",
        "\n",
        "**Nota**: Puedes consultar la documentación oficial de la función [`sorted`](https://docs.python.org/3/library/functions.html#sorted) para ver qué parámetros puedes utilizar para resolver la segunda parte de la actividad.\n",
        "\n"
      ]
    },
    {
      "cell_type": "code",
      "metadata": {
        "id": "OoXcgmlGG7gT",
        "colab_type": "code",
        "colab": {}
      },
      "source": [
        "st_chars = [\"Benjamin Sisko\", \"Kira Nerys\", \"Odo\", \"Quark\", \"Jadzia Dax\"]"
      ],
      "execution_count": 0,
      "outputs": []
    },
    {
      "cell_type": "code",
      "metadata": {
        "id": "PPR561UyG7gW",
        "colab_type": "code",
        "colab": {}
      },
      "source": [
        "# Respuesta 8.1"
      ],
      "execution_count": 0,
      "outputs": []
    },
    {
      "cell_type": "code",
      "metadata": {
        "id": "O6VZNxixG7gc",
        "colab_type": "code",
        "colab": {}
      },
      "source": [
        "# Respuesta 8.2"
      ],
      "execution_count": 0,
      "outputs": []
    },
    {
      "cell_type": "markdown",
      "metadata": {
        "id": "PGkw1k6_G7gm",
        "colab_type": "text"
      },
      "source": [
        "Ejercicio 18\n",
        "\n",
        "```\n",
        "# Tiene formato de código\n",
        "```\n",
        "\n",
        "\n",
        "\n",
        "A partir de la siguiente lista,\n",
        "\n",
        "```a_list = [42, 7.5,\" Answer to the Ultimate Question \",\" Dave \", 7.5]```\n",
        "\n",
        "proporcionad expresiones que devuelvan:\n",
        "\n",
        "1. El número de veces que aparece el elemento 7.5 en la lista.\n",
        "2. La posición de la primera aparición del valor 7.5\n",
        "3. La misma lista sin el último elemento\n",
        "\n",
        "**Nota**: En el notebook de teoría hemos visto qué son las listas y algunas operaciones sobre ellas. Para hacer la actividad, necesitaréis investigar algunas operaciones adicionales que podemos realizar sobre listas. Para ello podéis consultar la documentación oficial de Python sobre listas ([intro](https://docs.python.org/3/tutorial/introduction.html#lists) y [more on lists](https://docs.python.org/3/tutorial/datastructures.html#more-on-lists)).\n",
        "\n"
      ]
    },
    {
      "cell_type": "code",
      "metadata": {
        "id": "Ry0vU_AkG7gn",
        "colab_type": "code",
        "colab": {}
      },
      "source": [
        "a_list = [42, 7.5, \"Answer to the Ultimate Question\", \"Dave\", 7.5]\n",
        "\n",
        "# Respuesta"
      ],
      "execution_count": 0,
      "outputs": []
    },
    {
      "cell_type": "markdown",
      "metadata": {
        "id": "QL1atAcuG7gv",
        "colab_type": "text"
      },
      "source": [
        "### Ejercicio 19\n",
        "\n",
        "Escribir un programa que genere una lista de números aleatorios y calcule el producto de todos los números de la lista. Los números de la lista deberán cumplir la siguiente condición: deben ser números impares entre 0 y 100. Además, el programa tendrá que preguntar al usuario cuántos elementos debe tener la lista (el usuario introducirá el número de elementos usando el teclado) y mostrar un mensaje de error si el usuario pide generar una lista de más de 50 elementos. Haz que el programa muestre la lista generada y el producto de sus elementos. <span style=\"font-family: Courier New; background-color: #f2ae72; color: #000000; padding: 3px; \"></span>"
      ]
    },
    {
      "cell_type": "code",
      "metadata": {
        "id": "Fdu7Dpb_1PlW",
        "colab_type": "code",
        "colab": {}
      },
      "source": [
        "#Respuesta"
      ],
      "execution_count": 0,
      "outputs": []
    }
  ]
}